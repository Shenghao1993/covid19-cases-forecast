{
 "cells": [
  {
   "cell_type": "code",
   "execution_count": 1,
   "metadata": {},
   "outputs": [],
   "source": [
    "using DataFrames, CSV"
   ]
  },
  {
   "cell_type": "markdown",
   "metadata": {},
   "source": [
    "# I. Data Acquisition & Overview\n",
    "https://www.kaggle.com/super13579/seir-model-pr-model-for-covid19-global-forecast"
   ]
  },
  {
   "cell_type": "code",
   "execution_count": 2,
   "metadata": {},
   "outputs": [
    {
     "data": {
      "text/html": [
       "<table class=\"data-frame\"><thead><tr><th></th><th>Id</th><th>Province_State</th><th>Country_Region</th><th>Date</th><th>ConfirmedCases</th><th>Fatalities</th></tr><tr><th></th><th>Int64</th><th>String⍰</th><th>String</th><th>Dates…</th><th>Float64</th><th>Float64</th></tr></thead><tbody><p>6 rows × 6 columns</p><tr><th>1</th><td>1</td><td>missing</td><td>Afghanistan</td><td>2020-01-22</td><td>0.0</td><td>0.0</td></tr><tr><th>2</th><td>2</td><td>missing</td><td>Afghanistan</td><td>2020-01-23</td><td>0.0</td><td>0.0</td></tr><tr><th>3</th><td>3</td><td>missing</td><td>Afghanistan</td><td>2020-01-24</td><td>0.0</td><td>0.0</td></tr><tr><th>4</th><td>4</td><td>missing</td><td>Afghanistan</td><td>2020-01-25</td><td>0.0</td><td>0.0</td></tr><tr><th>5</th><td>5</td><td>missing</td><td>Afghanistan</td><td>2020-01-26</td><td>0.0</td><td>0.0</td></tr><tr><th>6</th><td>6</td><td>missing</td><td>Afghanistan</td><td>2020-01-27</td><td>0.0</td><td>0.0</td></tr></tbody></table>"
      ],
      "text/latex": [
       "\\begin{tabular}{r|cccccc}\n",
       "\t& Id & Province\\_State & Country\\_Region & Date & ConfirmedCases & Fatalities\\\\\n",
       "\t\\hline\n",
       "\t& Int64 & String⍰ & String & Dates… & Float64 & Float64\\\\\n",
       "\t\\hline\n",
       "\t1 & 1 &  & Afghanistan & 2020-01-22 & 0.0 & 0.0 \\\\\n",
       "\t2 & 2 &  & Afghanistan & 2020-01-23 & 0.0 & 0.0 \\\\\n",
       "\t3 & 3 &  & Afghanistan & 2020-01-24 & 0.0 & 0.0 \\\\\n",
       "\t4 & 4 &  & Afghanistan & 2020-01-25 & 0.0 & 0.0 \\\\\n",
       "\t5 & 5 &  & Afghanistan & 2020-01-26 & 0.0 & 0.0 \\\\\n",
       "\t6 & 6 &  & Afghanistan & 2020-01-27 & 0.0 & 0.0 \\\\\n",
       "\\end{tabular}\n"
      ],
      "text/plain": [
       "6×6 DataFrame. Omitted printing of 1 columns\n",
       "│ Row │ Id    │ Province_State │ Country_Region │ Date       │ ConfirmedCases │\n",
       "│     │ \u001b[90mInt64\u001b[39m │ \u001b[90mString⍰\u001b[39m        │ \u001b[90mString\u001b[39m         │ \u001b[90mDates.Date\u001b[39m │ \u001b[90mFloat64\u001b[39m        │\n",
       "├─────┼───────┼────────────────┼────────────────┼────────────┼────────────────┤\n",
       "│ 1   │ 1     │ \u001b[90mmissing\u001b[39m        │ Afghanistan    │ 2020-01-22 │ 0.0            │\n",
       "│ 2   │ 2     │ \u001b[90mmissing\u001b[39m        │ Afghanistan    │ 2020-01-23 │ 0.0            │\n",
       "│ 3   │ 3     │ \u001b[90mmissing\u001b[39m        │ Afghanistan    │ 2020-01-24 │ 0.0            │\n",
       "│ 4   │ 4     │ \u001b[90mmissing\u001b[39m        │ Afghanistan    │ 2020-01-25 │ 0.0            │\n",
       "│ 5   │ 5     │ \u001b[90mmissing\u001b[39m        │ Afghanistan    │ 2020-01-26 │ 0.0            │\n",
       "│ 6   │ 6     │ \u001b[90mmissing\u001b[39m        │ Afghanistan    │ 2020-01-27 │ 0.0            │"
      ]
     },
     "execution_count": 2,
     "metadata": {},
     "output_type": "execute_result"
    }
   ],
   "source": [
    "train_df = CSV.read(\"week2/train.csv\")\n",
    "first(train_df, 6)"
   ]
  },
  {
   "cell_type": "code",
   "execution_count": 6,
   "metadata": {},
   "outputs": [
    {
     "data": {
      "text/plain": [
       ":Id"
      ]
     },
     "execution_count": 6,
     "metadata": {},
     "output_type": "execute_result"
    }
   ],
   "source": [
    "names(train_df)[1]\n",
    "\n",
    "# info_df = pd.DataFrame(world_combined_df.dtypes)\n",
    "# info_df['MissingVal'] = world_combined_df.isnull().sum()\n",
    "# info_df['NUnique'] = world_combined_df.nunique()\n",
    "# info_df['Count'] = world_combined_df.count()\n",
    "# info_df['PercentMissingVal'] = info_df.apply(lambda info: round(info.MissingVal / (info.Count + info.MissingVal), 6), axis=1)\n",
    "# round(info_df['MissingVal'] / info_df['Count'], 6)\n",
    "# info_df = info_df.rename(columns = {0: 'DataType'})\n",
    "# info_df"
   ]
  },
  {
   "cell_type": "code",
   "execution_count": 5,
   "metadata": {},
   "outputs": [
    {
     "ename": "MethodError",
     "evalue": "MethodError: objects of type Module are not callable",
     "output_type": "error",
     "traceback": [
      "MethodError: objects of type Module are not callable",
      "",
      "Stacktrace:",
      " [1] top-level scope at In[5]:1"
     ]
    }
   ],
   "source": [
    "info_df = DataFrames(col = Strings.names(train_df))\n",
    "info_df"
   ]
  },
  {
   "cell_type": "code",
   "execution_count": null,
   "metadata": {},
   "outputs": [],
   "source": []
  }
 ],
 "metadata": {
  "kernelspec": {
   "display_name": "Julia 1.4.0",
   "language": "julia",
   "name": "julia-1.4"
  },
  "language_info": {
   "file_extension": ".jl",
   "mimetype": "application/julia",
   "name": "julia",
   "version": "1.4.0"
  }
 },
 "nbformat": 4,
 "nbformat_minor": 4
}
